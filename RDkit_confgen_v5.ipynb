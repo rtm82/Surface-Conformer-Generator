{
 "cells": [
  {
   "cell_type": "code",
   "execution_count": 1,
   "id": "b138b0ed",
   "metadata": {},
   "outputs": [],
   "source": [
    "import sys\n",
    "import os\n",
    "import rdkit\n",
    "import random as rand\n",
    "import numpy as np\n",
    "#import nglview as nv\n",
    "from openbabel import openbabel as ob\n",
    "from pyquaternion import Quaternion\n",
    "from rdkit import Chem"
   ]
  },
  {
   "cell_type": "code",
   "execution_count": 2,
   "id": "d391f793",
   "metadata": {},
   "outputs": [],
   "source": [
    "def xyz2RDmol(xyzFile): #for some reason, RDkit won't show an RDmol it converts from an .xyz file, so I'm using this.\n",
    "    convert = ob.OBConversion()\n",
    "    convert.SetInAndOutFormats(\"xyz\", \"mol\")\n",
    "    mol = ob.OBMol()\n",
    "    convert.ReadFile(mol, xyzFile) \n",
    "    convert.WriteFile(mol, xyzFile[:-4] + \".mol\")\n",
    "    mol = Chem.MolFromMolFile(xyzFile[:-4] + \".mol\", sanitize = False, removeHs = False)\n",
    "    return mol"
   ]
  },
  {
   "cell_type": "markdown",
   "id": "9945ef4c",
   "metadata": {},
   "source": [
    "Gets specified adsorbate groups in a given .xyz file. Takes SMILES/SMARTS input or another .xyz file as a reference for what to find."
   ]
  },
  {
   "cell_type": "code",
   "execution_count": 3,
   "id": "50b8dac1",
   "metadata": {
    "scrolled": true
   },
   "outputs": [
    {
     "name": "stdout",
     "output_type": "stream",
     "text": [
      "[['O', 6.724684896, 2.0196819, 14.201645346], ['Al', 5.01431264, 2.28555541, 14.596898568], ['C', 4.092293334, 0.554781065, 14.76921319], ['H', 4.274915013, 0.159747916, 15.783839598], ['H', 4.464458921, -0.182816924, 14.038249601], ['H', 3.001218341, 0.593287069, 14.649877712], ['C', 4.550790837, 3.740818139, 15.849574918], ['H', 5.391328494, 4.079574269, 16.48019175], ['H', 3.796928799, 3.350207813, 16.552845007], ['H', 4.082396605, 4.629213127, 15.39178543]] [['O', 6.724684896, 2.0196819, 14.201645346], ['Al', 5.01431264, 2.28555541, 14.596898568], ['C', 4.092293334, 0.554781065, 14.76921319], ['H', 4.274915013, 0.159747916, 15.783839598], ['H', 4.464458921, -0.182816924, 14.038249601], ['H', 3.001218341, 0.593287069, 14.649877712], ['C', 4.550790837, 3.740818139, 15.849574918], ['H', 5.391328494, 4.079574269, 16.48019175], ['H', 3.796928799, 3.350207813, 16.552845007], ['H', 4.082396605, 4.629213127, 15.39178543]]\n"
     ]
    }
   ],
   "source": [
    "dmaSMARTS = '*-[O]-[Al](C([H])([H])([H]))(C([H])([H])([H]))'\n",
    "CRABxyz = 'O-CRAB.xyz'\n",
    "\n",
    "def getCoordsAndGrps(coordFile, SMARTS = None, molfromXYZ = None):\n",
    "    \n",
    "    # read in xyz file, convert coords to float #\n",
    "    with open(coordFile, 'r') as file:\n",
    "        coords = [coord.split() for coord in file.readlines()[2:]]\n",
    "    for i in range(len(coords)):\n",
    "        for j in range(1, 4):\n",
    "            coords[i][j] = float(coords[i][j])\n",
    "    ###\n",
    "    \n",
    "    # get atom indices of all adsorbate groups in structure #\n",
    "    mol = xyz2RDmol(coordFile)\n",
    "    if SMARTS:\n",
    "        substruct = Chem.MolFromSmarts(SMARTS)\n",
    "        inds = [ind[1::] for ind in mol.GetSubstructMatches(substruct)]\n",
    "    elif molfromXYZ:\n",
    "        substruct = xyz2RDmol(molfromXYZ)\n",
    "        inds = [ind for ind in mol.GetSubstructMatches(substruct)] # since it does not include wildcard atom\n",
    "    ###\n",
    "    \n",
    "    # get coordinates of all groups #\n",
    "    grps = []\n",
    "    for indList in inds:\n",
    "        grp = []\n",
    "        for i in indList:\n",
    "            #atomSym = mol.GetAtomWithIdx(i).GetSymbol()\n",
    "            #coord = [atomSym] + [pos for pos in mol.GetConformer().GetAtomPosition(i)]\n",
    "            #grp.append(coord)\n",
    "            grp.append(coords[i])\n",
    "        grps.append(grp)\n",
    "    ###\n",
    "    # returns coordinates, as well as coordinates of all groups matching the reference molecule\n",
    "    return coords, grps\n",
    "\n",
    "# look at these to see what a group looks like #\n",
    "testGrps1 = getCoordsAndGrps('50_82_84_opt.xyz', dmaSMARTS) # test for TMA groups\n",
    "testGrps2 =  getCoordsAndGrps('50_86_opt.xyz', molfromXYZ = CRABxyz)\n",
    "print(testGrps1[1][0], testGrps1[1][0])\n",
    "#"
   ]
  },
  {
   "cell_type": "markdown",
   "id": "a82f13b2",
   "metadata": {},
   "source": [
    "Function that takes in a group (as generated above) and rotates it according to some rules. Basically, I'd like to inscribe one of the atoms on a half circle on the positive z-axis (Add how you do this), and rotate it along with its connecting atoms somewhere on that surface. Then, I do another rotation, this time around the bond axis. "
   ]
  },
  {
   "cell_type": "code",
   "execution_count": 4,
   "id": "ed85fc94",
   "metadata": {},
   "outputs": [],
   "source": [
    "def quatRot(coords):\n",
    "    names = [coord[0] for coord in coords]\n",
    "    coords = np.array([coord[1:] for coord in coords], dtype = float)\n",
    "    \n",
    "    # make random unit vector in xy plane to rotate around (uniform distribution) #\n",
    "    randVec = np.array([rand.uniform(-1, 1), rand.uniform(-1, 1), 0])\n",
    "    randVec = randVec / np.linalg.norm(randVec)\n",
    "    a1 = rand.uniform(-160, 160) # rotation angle\n",
    "    q1 = Quaternion(axis = randVec, degrees = a1) # choose rotation around vector in xy plane\n",
    "    ###\n",
    "    \n",
    "    # do another rotation around bond axis #\n",
    "    bndAxs = coords[1] - coords[0] # bond axis vector\n",
    "    bndAxs = bndAxs / np.linalg.norm(bndAxs) # normalizing bond axis vector\n",
    "    a2 = rand.uniform(0, 360)\n",
    "    q2 = Quaternion(axis = bndAxs, degrees = a2)\n",
    "    ###\n",
    "    \n",
    "    qF = q1 * q2 # composite rotation from both\n",
    "    \n",
    "    newCoords = [coord - coords[0] for coord in coords] # center coords at origin\n",
    "    newCoords = [list(coords[0] + qF.rotate(coord)) for coord in newCoords] # apply rotation\n",
    "    \n",
    "    for n in range(len(newCoords)):\n",
    "        newCoords[n] = [names[n]] + newCoords[n] # return rotated coordinates to input form\n",
    "        \n",
    "    return newCoords"
   ]
  },
  {
   "cell_type": "markdown",
   "id": "3401c7fc",
   "metadata": {},
   "source": [
    "1st function (genius coding) gives me VdW radii of the atoms I've been working with. These are used as a rudimentary way of checking for sterics in the rotated conformers in the 2nd function- if the distance between two atoms is less than the sum of their VdW radii, then the rotation is rejected and it has to try again."
   ]
  },
  {
   "cell_type": "code",
   "execution_count": 5,
   "id": "0a626618",
   "metadata": {},
   "outputs": [],
   "source": [
    "def getVdW(name):\n",
    "    if name == 'Si':\n",
    "        return 2.10\n",
    "    if name == 'O':\n",
    "        return 1.52\n",
    "    if name == 'C':\n",
    "        return 1.70\n",
    "    if name == 'N':\n",
    "        return 1.55\n",
    "    return 1.10\n",
    "    \n",
    "\n",
    "def distChk(grp, modCoords): # takes rotated grp and whole molecule without grp\n",
    "    for atom1 in grp[1:]:\n",
    "        for atom2 in modCoords:\n",
    "            name1, name2 = atom1[0], atom2[0]\n",
    "            vdWradiiSum = getVdW(name1) + getVdW(name2)\n",
    "            \n",
    "            atomDists = np.linalg.norm(np.array(atom2[1:]) - np.array(atom1[1:]))\n",
    "            \n",
    "            if atomDists < vdWradiiSum:\n",
    "                return False\n",
    "    return True"
   ]
  },
  {
   "cell_type": "markdown",
   "id": "28dd7084",
   "metadata": {},
   "source": [
    "The \"master\" function that rotates groups and outputs successfully rotated geometries as .xyz files. "
   ]
  },
  {
   "cell_type": "code",
   "execution_count": 8,
   "id": "db8c66f3",
   "metadata": {},
   "outputs": [],
   "source": [
    "def rotGrps(coordFile, nRots, foldername, SMARTSmol = None, XYZmol = None): # takes path of the xyz file of whole structure, smarts, # rotations\n",
    "    \n",
    "    # make folder for rotations if there isn't one, removes all previous geoms otherwise #\n",
    "    if not os.path.exists(foldername):\n",
    "        os.mkdir(foldername) # make folder for storing rotations\n",
    "    os.system('rm ' + foldername + '/*')\n",
    "    ###\n",
    "    \n",
    "    # get coords and groups #\n",
    "    coords, grps = getCoordsAndGrps(coordFile, SMARTS = SMARTSmol, molfromXYZ = XYZmol)\n",
    "    ###\n",
    "    \n",
    "    # function for rotations #\n",
    "    n = 0 \n",
    "    while n < nRots:\n",
    "        grp = grps[rand.randint(0, len(grps) - 1)] # choose random adsorbate group on substrate\n",
    "        coords_nogrp = [coord for coord in coords if coord not in grp] # get all atoms other than adsorbate\n",
    "        newGrp = quatRot(grp) # rotate adsorbate\n",
    "        # newGrp = quatRot2(grp)\n",
    "        if distChk(newGrp, coords_nogrp): # if sterics are ok, write geom to file and make it new starting geom\n",
    "            coords = coords_nogrp + newGrp # add rotated grp back to molecule make this new starting coords\n",
    "            fname = foldername + '/rot_%s.xyz' % str(n + 1)\n",
    "            with open(fname, 'w') as file: # write rotated coordinates to individual file in folder\n",
    "                file.write(str(len(coords)) + '\\n\\n')\n",
    "                for coord in coords:\n",
    "                    coord = [str(c) for c in coord]\n",
    "                    coord = '     '.join(coord) + '\\n'\n",
    "                    file.write(coord)\n",
    "                    \n",
    "            grps = [g for g in grps if g != grp ] + [newGrp] # gets all new groups\n",
    "            n += 1 # loop only moves forward once we get a valid rotation\n",
    "            \n",
    "    os.system('cat ' + foldername + '/* > ' + foldername + '/allRots.xyz') # write geoms to trajectory file\n",
    "    ###        \n",
    "\n",
    "rotGrps('50_82_84_opt.xyz', 100, 'test', SMARTSmol = dmaSMARTS)"
   ]
  },
  {
   "cell_type": "markdown",
   "id": "5b62406e",
   "metadata": {},
   "source": [
    "Comments/Concerns:\n",
    "\n",
    "-I really didn't want to use lists of lists for the groups of atomic coordinates- but I couldn't think of an easier way. Any suggestions?\n",
    "\n",
    "-The trajectory file I included with this shows the script in action. The atom positions (like in the file text itself) don't stay the same, which glitches out VMD if you try to load it in normally- use the topo readvarxyz command in VMD to see it instead.\n",
    "\n",
    "-A bigger adsorbate relevant to my research does not work here, seemingly b/c it can't pass the distChk function (basically bad sterics). I could gradually ease the minimum distance requirements, decrease the range of rotations, or make a separate rotation function that just does the bond axis rotation,  but I'm not sure if these are good solutions.\n",
    "\n",
    "Also, let me know of any coding faux pas I committed, or anything making my code harder to read."
   ]
  },
  {
   "cell_type": "code",
   "execution_count": null,
   "id": "793c7862",
   "metadata": {},
   "outputs": [],
   "source": [
    "def quatRot2(coords):\n",
    "    names = [coord[0] for coord in coords]\n",
    "    coords = np.array([coord[1:] for coord in coords], dtype = float)\n",
    "    \n",
    "    bndAxs = coords[1] - coords[0] # bond axis vector\n",
    "    bndAxs = bndAxs / np.linalg.norm(bndAxs) # normalizing bond axis vector\n",
    "    a2 = rand.uniform(0, 360)\n",
    "    q2 = Quaternion(axis = bndAxs, degrees = a2)\n",
    "    \n",
    "    qF = q2 # composite rotation from both\n",
    "    \n",
    "    newCoords = [coord - coords[0] for coord in coords] # center coords at origin\n",
    "    newCoords = [list(coords[0] + qF.rotate(coord)) for coord in newCoords]\n",
    "    \n",
    "    for n in range(len(newCoords)):\n",
    "        newCoords[n] = [names[n]] + newCoords[n]\n",
    "\n",
    "    return newCoords"
   ]
  }
 ],
 "metadata": {
  "kernelspec": {
   "display_name": "my-rdkit-env",
   "language": "python",
   "name": "my-rdkit-env"
  },
  "language_info": {
   "codemirror_mode": {
    "name": "ipython",
    "version": 3
   },
   "file_extension": ".py",
   "mimetype": "text/x-python",
   "name": "python",
   "nbconvert_exporter": "python",
   "pygments_lexer": "ipython3",
   "version": "3.10.4"
  }
 },
 "nbformat": 4,
 "nbformat_minor": 5
}
